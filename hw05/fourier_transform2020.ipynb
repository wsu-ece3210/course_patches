{
 "cells": [
  {
   "cell_type": "markdown",
   "metadata": {},
   "source": [
    "Before you turn this problem in, make sure everything runs as expected. First, **restart the kernel** (in the menubar, select Kernel$\\rightarrow$Restart) and then **run all cells** (in the menubar, select Cell$\\rightarrow$Run All).\n",
    "\n",
    "Make sure you fill in any place that says `YOUR CODE HERE` or \"YOUR ANSWER HERE\", as well as your name and collaborators below:"
   ]
  },
  {
   "cell_type": "code",
   "execution_count": null,
   "metadata": {},
   "outputs": [],
   "source": [
    "NAME = \"\"\n",
    "COLLABORATORS = \"\""
   ]
  },
  {
   "cell_type": "markdown",
   "metadata": {},
   "source": [
    "---"
   ]
  },
  {
   "cell_type": "markdown",
   "metadata": {
    "deletable": false,
    "editable": false,
    "nbgrader": {
     "cell_type": "markdown",
     "checksum": "4430d2ec43da5d7d165076251a5c23d5",
     "grade": false,
     "grade_id": "cell-fb0bfcc74bac2d2a",
     "locked": true,
     "schema_version": 3,
     "solution": false,
     "task": false
    }
   },
   "source": [
    "# Fourier Transform 2020"
   ]
  },
  {
   "cell_type": "code",
   "execution_count": null,
   "metadata": {
    "deletable": false,
    "editable": false,
    "nbgrader": {
     "cell_type": "code",
     "checksum": "cb89953d8e57ddfb7637686974e21379",
     "grade": false,
     "grade_id": "cell-b5d144c0af92ada0",
     "locked": true,
     "schema_version": 3,
     "solution": false,
     "task": false
    }
   },
   "outputs": [],
   "source": [
    "import numpy as np\n",
    "\n",
    "\n",
    "def sinc(x):\n",
    "    return np.sinc(x / np.pi)"
   ]
  },
  {
   "cell_type": "markdown",
   "metadata": {
    "deletable": false,
    "editable": false,
    "nbgrader": {
     "cell_type": "markdown",
     "checksum": "237d3f6ff124a2c0450072c0fa0ccd72",
     "grade": false,
     "grade_id": "cell-1948316ba15da587",
     "locked": true,
     "schema_version": 3,
     "solution": false,
     "task": false
    }
   },
   "source": [
    "Note:  if you need to use the sinc function, please use the one provided above rather the one in the NumPy library."
   ]
  },
  {
   "cell_type": "markdown",
   "metadata": {
    "deletable": false,
    "editable": false,
    "nbgrader": {
     "cell_type": "markdown",
     "checksum": "c8d77ed1510f468dd21a4b5d4dd3c887",
     "grade": false,
     "grade_id": "cell-b4f0b072ff1d3684",
     "locked": true,
     "schema_version": 3,
     "solution": false,
     "task": false
    }
   },
   "source": [
    "## Part A\n",
    "\n",
    "Find the Fourier transform for $f(t)$ which is defined piecewise\n",
    "$$\n",
    "   f(t)=\n",
    "    \\begin{cases}\n",
    "      -t & -2\\leq t \\leq 0\\\\\n",
    "      t & 0 < t \\leq 2\\\\\n",
    "      0 & \\text{otherwise}\n",
    "    \\end{cases}.\n",
    "$$\n",
    "Represent your answer as a function `F(omega)`."
   ]
  },
  {
   "cell_type": "code",
   "execution_count": null,
   "metadata": {
    "deletable": false,
    "nbgrader": {
     "cell_type": "code",
     "checksum": "6902ee49e9aaeb396ae16efb764aadfd",
     "grade": false,
     "grade_id": "cell-6728c774e597c7e2",
     "locked": false,
     "schema_version": 3,
     "solution": true,
     "task": false
    }
   },
   "outputs": [],
   "source": [
    "def F(omega):\n",
    "    # YOUR CODE HERE\n",
    "    raise NotImplementedError()"
   ]
  },
  {
   "cell_type": "code",
   "execution_count": null,
   "metadata": {
    "deletable": false,
    "editable": false,
    "nbgrader": {
     "cell_type": "code",
     "checksum": "7d30098b468b8625b8bb2c64c55c0fac",
     "grade": true,
     "grade_id": "cell-27b08a3d599bb3fe",
     "locked": true,
     "points": 2,
     "schema_version": 3,
     "solution": false,
     "task": false
    }
   },
   "outputs": [],
   "source": [
    "assert isinstance(F(0), (float, complex))\n",
    "\n",
    "\n",
    "t = np.linspace(-4, 4, 1000)\n",
    "f_t = np.zeros_like(t)\n",
    "f_t[abs(t) <= 2] = abs(t[abs(t) <= 2])\n",
    "\n",
    "dt = t[1] - t[0]\n",
    "\n",
    "F_num = np.fft.fftshift(np.fft.fft(f_t, n=2**14)) * dt\n",
    "omega_num = np.fft.fftshift(np.fft.fftfreq(len(F_num), dt)) * 2 * np.pi\n",
    "\n",
    "omega_vals = np.linspace(-10, 10, 100)\n",
    "F_vals = np.array([F(om) for om in omega_vals])\n",
    "\n",
    "from matplotlib import pyplot as plt\n",
    "\n",
    "plt.figure(figsize=(12, 6))\n",
    "plt.subplot(1, 2, 1)\n",
    "plt.plot(t, f_t)\n",
    "plt.xlabel(r\"$t$\")\n",
    "plt.ylabel(r\"$f(t)$\")\n",
    "plt.title(\"Function f(t)\")\n",
    "plt.grid()\n",
    "\n",
    "plt.subplot(1, 2, 2)\n",
    "plt.plot(omega_num, np.abs(F_num), label=\"Numerical FFT\")\n",
    "plt.plot(omega_vals, np.abs(F_vals), \"--\", label=\"Analytical F(ω)\")\n",
    "plt.legend()\n",
    "plt.xlim(-10, 10)\n",
    "plt.xlabel(r\"$\\omega$\")\n",
    "plt.ylabel(r\"$|F(\\omega)|$\")\n",
    "plt.title(\"Magnitude of the Fourier Transform of f(t)\")\n",
    "plt.grid()\n",
    "plt.show()\n",
    "\n"
   ]
  },
  {
   "cell_type": "markdown",
   "metadata": {
    "deletable": false,
    "editable": false,
    "nbgrader": {
     "cell_type": "markdown",
     "checksum": "60045d640d9facd3bf8a32c096937b16",
     "grade": false,
     "grade_id": "cell-4f499e27d46f01dc",
     "locked": true,
     "schema_version": 3,
     "solution": false,
     "task": false
    }
   },
   "source": [
    "## Part B\n",
    "\n",
    "Find the inverse transform $f(t)$ if $|F(\\omega)|$ and $\\angle F(\\omega)$ are given below.  \n",
    "\n",
    "<img src=\"fourier_transform2020.png\" width=\"600\"/>\n",
    "\n",
    "Represent your answer as a function `f(t)`.  "
   ]
  },
  {
   "cell_type": "code",
   "execution_count": null,
   "metadata": {
    "deletable": false,
    "nbgrader": {
     "cell_type": "code",
     "checksum": "d08239fecb93bfe82fbdcae7cc3b9d25",
     "grade": false,
     "grade_id": "cell-767b795193e9fe8e",
     "locked": false,
     "schema_version": 3,
     "solution": true,
     "task": false
    }
   },
   "outputs": [],
   "source": [
    "def f(t):\n",
    "    # YOUR CODE HERE\n",
    "    raise NotImplementedError()"
   ]
  },
  {
   "cell_type": "code",
   "execution_count": null,
   "metadata": {
    "deletable": false,
    "editable": false,
    "nbgrader": {
     "cell_type": "code",
     "checksum": "b328b24767541256f643610870d98831",
     "grade": true,
     "grade_id": "cell-92bcf1ca08f7e2b6",
     "locked": true,
     "points": 2,
     "schema_version": 3,
     "solution": false,
     "task": false
    }
   },
   "outputs": [],
   "source": [
    "assert isinstance(f(0), (float, complex))\n",
    "\n",
    "\n",
    "def F(omega):\n",
    "    omega = np.asarray(omega)\n",
    "    out = np.zeros_like(omega, dtype=complex)\n",
    "    mask1 = (-3 <= omega) & (omega < -1)\n",
    "    mask2 = (1 <= omega) & (omega < 3)\n",
    "    out[mask1] = np.exp(-1j * omega[mask1] * np.pi / 2)\n",
    "    out[mask2] = np.exp(-1j * omega[mask2] * np.pi / 2)\n",
    "    return out\n",
    "\n",
    "\n",
    "# Define the frequency-domain signal F(omega)\n",
    "d_omega = 0.01\n",
    "omega = np.arange(-40, 40, d_omega)\n",
    "F_omega = F(omega)\n",
    "\n",
    "# Compute the numerical inverse Fourier Transform\n",
    "# The scaling factor is necessary to approximate the continuous integral\n",
    "n = len(omega)\n",
    "scaling_factor = n * d_omega / (2 * np.pi)\n",
    "f_t_numerical = scaling_factor * np.fft.ifftshift(\n",
    "    np.fft.ifft(np.fft.ifftshift(F_omega))\n",
    ")\n",
    "\n",
    "# Create the corresponding time vector for the output\n",
    "t = np.fft.fftshift(np.fft.fftfreq(n, d=d_omega / (2 * np.pi)))\n",
    "\n",
    "f_t_user = f(t)\n",
    "\n",
    "# Plot the results for comparison\n",
    "plt.figure(figsize=(12, 6))\n",
    "plt.subplot(1, 2, 1)\n",
    "plt.plot(omega, np.abs(F_omega), label=\"Numerical F(ω)\", linewidth=4)\n",
    "plt.xlim(-4, 4)\n",
    "plt.xlabel(\"ω\")\n",
    "plt.ylabel(\"|F(ω)|\")\n",
    "plt.title(\"Absolute Value of F(ω)\")\n",
    "\n",
    "\n",
    "plt.subplot(1, 2, 2)\n",
    "plt.plot(t, np.real(f_t_numerical), label=\"Numerical Inverse FT, real\", linewidth=4)\n",
    "plt.plot(t, np.imag(f_t_numerical), label=\"Numerical Inverse FT, imag\", linestyle=\"--\")\n",
    "plt.plot(t, f_t_user.real, label=\"User's Analytical f(t), real\", linestyle=\":\")\n",
    "plt.plot(t, f_t_user.imag, label=\"User's Analytical f(t), imag\", linestyle=\"-.\")\n",
    "plt.xlim(-5, 10)\n",
    "plt.xlabel(\"t\")\n",
    "plt.ylabel(\"f(t)\")\n",
    "plt.title(\"Comparison of Numerical and Analytical Inverse Fourier Transforms\")\n",
    "plt.legend()\n",
    "plt.grid(True)\n",
    "plt.show()\n",
    "\n"
   ]
  }
 ],
 "metadata": {
  "kernelspec": {
   "display_name": "base",
   "language": "python",
   "name": "python3"
  },
  "language_info": {
   "codemirror_mode": {
    "name": "ipython",
    "version": 3
   },
   "file_extension": ".py",
   "mimetype": "text/x-python",
   "name": "python",
   "nbconvert_exporter": "python",
   "pygments_lexer": "ipython3",
   "version": "3.12.4"
  }
 },
 "nbformat": 4,
 "nbformat_minor": 4
}
