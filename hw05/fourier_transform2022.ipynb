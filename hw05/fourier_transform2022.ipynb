{
 "cells": [
  {
   "cell_type": "markdown",
   "metadata": {},
   "source": [
    "Before you turn this problem in, make sure everything runs as expected. First, **restart the kernel** (in the menubar, select Kernel$\\rightarrow$Restart) and then **run all cells** (in the menubar, select Cell$\\rightarrow$Run All).\n",
    "\n",
    "Make sure you fill in any place that says `YOUR CODE HERE` or \"YOUR ANSWER HERE\", as well as your name and collaborators below:"
   ]
  },
  {
   "cell_type": "code",
   "execution_count": null,
   "metadata": {},
   "outputs": [],
   "source": [
    "NAME = \"\"\n",
    "COLLABORATORS = \"\""
   ]
  },
  {
   "cell_type": "markdown",
   "metadata": {},
   "source": [
    "---"
   ]
  },
  {
   "cell_type": "markdown",
   "metadata": {
    "deletable": false,
    "editable": false,
    "nbgrader": {
     "cell_type": "markdown",
     "checksum": "8499adebb9ce737775f596413b12998d",
     "grade": false,
     "grade_id": "cell-701e0b71a11c4d88",
     "locked": true,
     "schema_version": 3,
     "solution": false,
     "task": false
    }
   },
   "source": [
    "# Fourier Transform 2022"
   ]
  },
  {
   "cell_type": "code",
   "execution_count": null,
   "metadata": {
    "deletable": false,
    "nbgrader": {
     "cell_type": "code",
     "checksum": "303fc8d151525e4cd18e29ad99ec78c6",
     "grade": false,
     "grade_id": "cell-a4bce8a3c5f78775",
     "locked": false,
     "schema_version": 3,
     "solution": true,
     "task": false
    }
   },
   "outputs": [],
   "source": [
    "# YOUR CODE HERE\n",
    "raise NotImplementedError()"
   ]
  },
  {
   "cell_type": "markdown",
   "metadata": {
    "deletable": false,
    "editable": false,
    "nbgrader": {
     "cell_type": "markdown",
     "checksum": "c5962289c46057c7e1c6760b67996d2f",
     "grade": false,
     "grade_id": "cell-75a5a59959aafb59",
     "locked": true,
     "schema_version": 3,
     "solution": false,
     "task": false
    }
   },
   "source": [
    "Note:  if you need to use the sinc function, please use the one provided above rather the one in the NumPy library."
   ]
  },
  {
   "cell_type": "markdown",
   "metadata": {
    "deletable": false,
    "editable": false,
    "nbgrader": {
     "cell_type": "markdown",
     "checksum": "33558f0a6aa7d10a3eede46c7cf09b63",
     "grade": false,
     "grade_id": "cell-9b1576ef59d3ee7d",
     "locked": true,
     "schema_version": 3,
     "solution": false,
     "task": false
    }
   },
   "source": [
    "## Part A\n",
    "\n",
    "Find the Fourier transform for $f(t)$ below.\n",
    "\n",
    "<img src=\"fourier_transform2022a.png\" width=\"400\"/>\n",
    "\n",
    "Represent your answer as a function `F(omega)`."
   ]
  },
  {
   "cell_type": "code",
   "execution_count": null,
   "metadata": {
    "deletable": false,
    "nbgrader": {
     "cell_type": "code",
     "checksum": "e40e2e0caf74da1143102cafdf47aa04",
     "grade": false,
     "grade_id": "cell-5fba9363c411a33f",
     "locked": false,
     "schema_version": 3,
     "solution": true,
     "task": false
    }
   },
   "outputs": [],
   "source": [
    "def F(omega):\n",
    "    # YOUR CODE HERE\n",
    "    raise NotImplementedError()"
   ]
  },
  {
   "cell_type": "code",
   "execution_count": null,
   "metadata": {
    "deletable": false,
    "editable": false,
    "nbgrader": {
     "cell_type": "code",
     "checksum": "2d83467620dbe92f186c0f3464237b11",
     "grade": true,
     "grade_id": "cell-94660ab0cea1cc22",
     "locked": true,
     "points": 2,
     "schema_version": 3,
     "solution": false,
     "task": false
    }
   },
   "outputs": [],
   "source": [
    "assert isinstance(F(0), (float, complex))\n",
    "\n",
    "\n",
    "f = np.vectorize(\n",
    "    lambda t: (\n",
    "        -1.0 if -2 <= t < -1 else 2.0 if -1 <= t < 1 else -1.0 if 1 <= t < 2 else 0.0\n",
    "    )\n",
    ")\n",
    "\n",
    "t = np.linspace(-5, 5, 1000)\n",
    "\n",
    "dt = t[1] - t[0]\n",
    "f_t = f(t)\n",
    "F_num = np.fft.fftshift(np.fft.fft(f_t, n=2**14)) * dt\n",
    "omega_num = np.fft.fftshift(np.fft.fftfreq(len(F_num), dt)) * 2 * np.pi\n",
    "\n",
    "omega_vals = np.linspace(-10, 10, 100)\n",
    "F_vals = np.array([F(om) for om in omega_vals])\n",
    "\n",
    "\n",
    "from matplotlib import pyplot as plt\n",
    "\n",
    "plt.figure(figsize=(10, 4))\n",
    "plt.subplot(1, 2, 1)\n",
    "plt.plot(t, f_t)\n",
    "plt.xlabel(r\"$t$\")\n",
    "plt.ylabel(r\"$f(t)$\")\n",
    "plt.title(\"Function f(t)\")\n",
    "plt.grid()\n",
    "\n",
    "plt.subplot(1, 2, 2)\n",
    "plt.plot(omega_num, np.abs(F_num), label=\"Numerical FFT\")\n",
    "plt.plot(omega_vals, np.abs(F_vals), \"--\", label=\"Analytical F(ω)\")\n",
    "plt.legend()\n",
    "plt.xlim(-10, 10)\n",
    "plt.xlabel(r\"$\\omega$\")\n",
    "plt.ylabel(r\"$|F(\\omega)|$\")\n",
    "plt.title(\"Magnitude of the Fourier Transform of f(t)\")\n",
    "plt.grid()\n",
    "plt.show()\n",
    "\n"
   ]
  },
  {
   "cell_type": "markdown",
   "metadata": {
    "deletable": false,
    "editable": false,
    "nbgrader": {
     "cell_type": "markdown",
     "checksum": "2f813d47788506881de0155c8e6385bb",
     "grade": false,
     "grade_id": "cell-54fd071fe37fc1c2",
     "locked": true,
     "schema_version": 3,
     "solution": false,
     "task": false
    }
   },
   "source": [
    "## Part B\n",
    "\n",
    "Find the inverse transform $f(t)$ if $|F(\\omega)|$ and $\\angle F(\\omega)$ are given below.  \n",
    "\n",
    "<img src=\"fourier_transform2022b.png\" width=\"800\"/>\n",
    "\n",
    "Represent your answer as a function `f(t)`.  "
   ]
  },
  {
   "cell_type": "code",
   "execution_count": null,
   "metadata": {
    "deletable": false,
    "nbgrader": {
     "cell_type": "code",
     "checksum": "41e5cf492502b91e9808c29109fdcd68",
     "grade": false,
     "grade_id": "cell-94532d69b454180f",
     "locked": false,
     "schema_version": 3,
     "solution": true,
     "task": false
    }
   },
   "outputs": [],
   "source": [
    "def f(t):\n",
    "    # YOUR CODE HERE\n",
    "    raise NotImplementedError()"
   ]
  },
  {
   "cell_type": "code",
   "execution_count": null,
   "metadata": {
    "deletable": false,
    "editable": false,
    "nbgrader": {
     "cell_type": "code",
     "checksum": "038758123d39ec4218a9fc1864b1b2ef",
     "grade": true,
     "grade_id": "cell-6506e3cf4a2fa1d3",
     "locked": true,
     "points": 2,
     "schema_version": 3,
     "solution": false,
     "task": false
    }
   },
   "outputs": [],
   "source": [
    "assert isinstance(f(0), (float, complex))\n",
    "\n",
    "# Define the frequency-domain signal F(omega)\n",
    "d_omega = 0.01\n",
    "omega = np.arange(-40, 40, d_omega)\n",
    "F_omega = np.zeros_like(omega, dtype=complex)\n",
    "F_omega[abs(omega) <= 2] = (\n",
    "    0.5 * abs(omega[abs(omega) <= 2]) * np.exp(1j * omega[abs(omega) <= 2])\n",
    ")\n",
    "\n",
    "# Compute the numerical inverse Fourier Transform\n",
    "# The scaling factor is necessary to approximate the continuous integral\n",
    "n = len(omega)\n",
    "scaling_factor = n * d_omega / (2 * np.pi)\n",
    "f_t_numerical = scaling_factor * np.fft.ifftshift(\n",
    "    np.fft.ifft(np.fft.ifftshift(F_omega))\n",
    ")\n",
    "\n",
    "# Create the corresponding time vector for the output\n",
    "t = np.fft.fftshift(np.fft.fftfreq(n, d=d_omega / (2 * np.pi)))\n",
    "\n",
    "f_t_user = f(t)\n",
    "\n",
    "# Plot the results for comparison\n",
    "plt.figure(figsize=(12, 6))\n",
    "plt.subplot(1, 2, 1)\n",
    "plt.plot(omega, np.abs(F_omega), label=\"Numerical F(ω)\", linewidth=4)\n",
    "plt.xlim(-4, 4)\n",
    "plt.xlabel(\"ω\")\n",
    "plt.ylabel(\"|F(ω)|\")\n",
    "plt.title(\"Absolute Value of F(ω)\")\n",
    "\n",
    "\n",
    "plt.subplot(1, 2, 2)\n",
    "plt.plot(t, np.real(f_t_numerical), label=\"Numerical Inverse FT, real\", linewidth=4)\n",
    "plt.plot(t, np.imag(f_t_numerical), label=\"Numerical Inverse FT, imag\", linestyle=\"--\")\n",
    "plt.plot(t, f_t_user.real, label=\"User's Analytical f(t), real\", linestyle=\":\")\n",
    "plt.plot(t, f_t_user.imag, label=\"User's Analytical f(t), imag\", linestyle=\"-.\")\n",
    "plt.xlim(-5, 10)\n",
    "plt.xlabel(\"t\")\n",
    "plt.ylabel(\"f(t)\")\n",
    "plt.title(\"Comparison of Numerical and Analytical Inverse Fourier Transforms\")\n",
    "plt.legend()\n",
    "plt.grid(True)\n",
    "plt.show()\n",
    "\n"
   ]
  }
 ],
 "metadata": {
  "kernelspec": {
   "display_name": "base",
   "language": "python",
   "name": "python3"
  },
  "language_info": {
   "codemirror_mode": {
    "name": "ipython",
    "version": 3
   },
   "file_extension": ".py",
   "mimetype": "text/x-python",
   "name": "python",
   "nbconvert_exporter": "python",
   "pygments_lexer": "ipython3",
   "version": "3.12.4"
  }
 },
 "nbformat": 4,
 "nbformat_minor": 4
}
