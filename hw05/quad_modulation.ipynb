{
 "cells": [
  {
   "cell_type": "markdown",
   "metadata": {},
   "source": [
    "Before you turn this problem in, make sure everything runs as expected. First, **restart the kernel** (in the menubar, select Kernel$\\rightarrow$Restart) and then **run all cells** (in the menubar, select Cell$\\rightarrow$Run All).\n",
    "\n",
    "Make sure you fill in any place that says `YOUR CODE HERE` or \"YOUR ANSWER HERE\", as well as your name and collaborators below:"
   ]
  },
  {
   "cell_type": "code",
   "execution_count": null,
   "metadata": {},
   "outputs": [],
   "source": [
    "NAME = \"\"\n",
    "COLLABORATORS = \"\""
   ]
  },
  {
   "cell_type": "markdown",
   "metadata": {},
   "source": [
    "---"
   ]
  },
  {
   "cell_type": "markdown",
   "metadata": {
    "deletable": false,
    "editable": false,
    "nbgrader": {
     "cell_type": "markdown",
     "checksum": "35a3a218ca8f2d4fc2ccdd77f4bf8924",
     "grade": false,
     "grade_id": "cell-d2fc98722d868776",
     "locked": true,
     "schema_version": 3,
     "solution": false,
     "task": false
    }
   },
   "source": [
    "# Quadrature Modulation"
   ]
  },
  {
   "cell_type": "code",
   "execution_count": null,
   "metadata": {
    "deletable": false,
    "editable": false,
    "nbgrader": {
     "cell_type": "code",
     "checksum": "56fdb9524f1a502bcaab3ab667ef4d31",
     "grade": false,
     "grade_id": "cell-e67e2437e2b05988",
     "locked": true,
     "schema_version": 3,
     "solution": false,
     "task": false
    }
   },
   "outputs": [],
   "source": [
    "from matplotlib import pyplot as plt\n",
    "import numpy as np"
   ]
  },
  {
   "cell_type": "markdown",
   "metadata": {
    "deletable": false,
    "editable": false,
    "nbgrader": {
     "cell_type": "markdown",
     "checksum": "6011f3aab260c0ea21f229e9ae0afa18",
     "grade": false,
     "grade_id": "cell-357e95e453330b40",
     "locked": true,
     "schema_version": 3,
     "solution": false,
     "task": false
    }
   },
   "source": [
    "Let's look at a quadrature amplitude modulation system.  The block diagram of the modulation system is \n",
    "\n",
    "<img src=\"quad_modulation.png\" width=\"500\"/>  \n",
    "\n",
    "\n",
    "Assume that the inputs are real signals.  Note that the $j$ factor for the lower modulator.\n",
    "\n"
   ]
  },
  {
   "cell_type": "code",
   "execution_count": null,
   "metadata": {
    "deletable": false,
    "editable": false,
    "nbgrader": {
     "cell_type": "code",
     "checksum": "32e40e37a95f2841e589be3c34dd2362",
     "grade": false,
     "grade_id": "cell-20b3809de21bdcf7",
     "locked": true,
     "schema_version": 3,
     "solution": false,
     "task": false
    }
   },
   "outputs": [],
   "source": [
    "def x(t):\n",
    "    return np.cos(t) + np.cos(2 * t)\n",
    "\n",
    "\n",
    "def y(t):\n",
    "    return np.sin(t) + np.sin(2 * t)"
   ]
  },
  {
   "cell_type": "code",
   "execution_count": null,
   "metadata": {
    "deletable": false,
    "nbgrader": {
     "cell_type": "code",
     "checksum": "a9b5f0b38b4a3acaebdad15915922aea",
     "grade": false,
     "grade_id": "cell-0332ebbb73945d41",
     "locked": false,
     "schema_version": 3,
     "solution": true,
     "task": false
    }
   },
   "outputs": [],
   "source": [
    "def z(t):\n",
    "    # YOUR CODE HERE\n",
    "    raise NotImplementedError()"
   ]
  },
  {
   "cell_type": "code",
   "execution_count": null,
   "metadata": {
    "deletable": false,
    "editable": false,
    "nbgrader": {
     "cell_type": "code",
     "checksum": "8ea3ea2b38a933a390e80c11f76ac404",
     "grade": true,
     "grade_id": "cell-52840e58893db6ac",
     "locked": true,
     "points": 2,
     "schema_version": 3,
     "solution": false,
     "task": false
    }
   },
   "outputs": [],
   "source": [
    "assert isinstance(z(0), complex)\n",
    "\n"
   ]
  },
  {
   "cell_type": "markdown",
   "metadata": {
    "deletable": false,
    "editable": false,
    "nbgrader": {
     "cell_type": "markdown",
     "checksum": "f855663d9bce2676feab4e7ff7a0361c",
     "grade": false,
     "grade_id": "cell-2d6802d2af3eba23",
     "locked": true,
     "schema_version": 3,
     "solution": false,
     "task": false
    }
   },
   "source": [
    "Find the spectrum of the transmitted signal $Z(\\omega)$. Simplify your expression, and eliminate any convolutions.  You are given two functions for $X(\\omega)$ and $Y(\\omega)$ below.\n",
    "\n",
    "Represent your answer as a function `Z(omega)`."
   ]
  },
  {
   "cell_type": "code",
   "execution_count": null,
   "metadata": {
    "deletable": false,
    "editable": false,
    "nbgrader": {
     "cell_type": "code",
     "checksum": "2ff280c4d0e4e597036052ec823149be",
     "grade": false,
     "grade_id": "cell-c52049bcad1286e7",
     "locked": true,
     "schema_version": 3,
     "solution": false,
     "task": false
    }
   },
   "outputs": [],
   "source": [
    "def X(omega):\n",
    "    if -np.pi <= omega <= np.pi:\n",
    "        return 1.0\n",
    "    else:\n",
    "        return 0.0\n",
    "\n",
    "\n",
    "def Y(omega):\n",
    "    if -np.pi <= omega <= np.pi:\n",
    "        return 1 - abs(omega) / np.pi\n",
    "    else:\n",
    "        return 0.0\n",
    "\n",
    "\n",
    "omega_vals = np.linspace(-4 * np.pi, 4 * np.pi, 1000)\n",
    "X_vals = np.array([X(omega) for omega in omega_vals])\n",
    "Y_vals = np.array([Y(omega) for omega in omega_vals])\n",
    "\n",
    "plt.figure()\n",
    "plt.plot(omega_vals, X_vals, label=r\"$X(\\omega)$\")\n",
    "plt.plot(omega_vals, Y_vals, label=r\"$Y(\\omega)$\")\n",
    "plt.xlabel(r\"$\\omega$\")\n",
    "plt.legend()\n",
    "plt.grid()"
   ]
  },
  {
   "cell_type": "code",
   "execution_count": null,
   "metadata": {
    "deletable": false,
    "nbgrader": {
     "cell_type": "code",
     "checksum": "03f5f3593301731d5964ecf8b852918d",
     "grade": false,
     "grade_id": "cell-81f8c68f32000387",
     "locked": false,
     "schema_version": 3,
     "solution": true,
     "task": false
    }
   },
   "outputs": [],
   "source": [
    "def Z(omega):\n",
    "    # YOUR CODE HERE\n",
    "    raise NotImplementedError()"
   ]
  },
  {
   "cell_type": "code",
   "execution_count": null,
   "metadata": {
    "deletable": false,
    "editable": false,
    "nbgrader": {
     "cell_type": "code",
     "checksum": "933e7cc245b1a36d7ea5c4559c1b3be3",
     "grade": true,
     "grade_id": "cell-9e6b3d38e44830e2",
     "locked": true,
     "points": 2,
     "schema_version": 3,
     "solution": false,
     "task": false
    }
   },
   "outputs": [],
   "source": [
    "assert isinstance(Z(0), (float, complex))\n",
    "\n",
    "z_vals = np.array([Z(omega) for omega in omega_vals])\n",
    "\n",
    "plt.figure()\n",
    "plt.plot(omega_vals, z_vals, label=r\"$Z(\\omega)$\")\n",
    "plt.xlabel(r\"$\\omega$\")\n",
    "plt.legend()\n",
    "plt.grid()\n",
    "\n"
   ]
  }
 ],
 "metadata": {
  "kernelspec": {
   "display_name": "Python 3 (ipykernel)",
   "language": "python",
   "name": "python3"
  },
  "language_info": {
   "codemirror_mode": {
    "name": "ipython",
    "version": 3
   },
   "file_extension": ".py",
   "mimetype": "text/x-python",
   "name": "python",
   "nbconvert_exporter": "python",
   "pygments_lexer": "ipython3",
   "version": "3.12.4"
  }
 },
 "nbformat": 4,
 "nbformat_minor": 4
}
