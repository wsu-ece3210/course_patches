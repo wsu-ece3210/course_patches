{
 "cells": [
  {
   "cell_type": "markdown",
   "metadata": {},
   "source": [
    "Before you turn this problem in, make sure everything runs as expected. First, **restart the kernel** (in the menubar, select Kernel$\\rightarrow$Restart) and then **run all cells** (in the menubar, select Cell$\\rightarrow$Run All).\n",
    "\n",
    "Make sure you fill in any place that says `YOUR CODE HERE` or \"YOUR ANSWER HERE\", as well as your name and collaborators below:"
   ]
  },
  {
   "cell_type": "code",
   "execution_count": null,
   "metadata": {},
   "outputs": [],
   "source": [
    "NAME = \"\"\n",
    "COLLABORATORS = \"\""
   ]
  },
  {
   "cell_type": "markdown",
   "metadata": {},
   "source": [
    "---"
   ]
  },
  {
   "cell_type": "markdown",
   "metadata": {
    "deletable": false,
    "editable": false,
    "nbgrader": {
     "cell_type": "markdown",
     "checksum": "1a7723074fef8c14a628b5bdda463269",
     "grade": false,
     "grade_id": "cell-111c6dd51bcab9e4",
     "locked": true,
     "schema_version": 3,
     "solution": false,
     "task": false
    }
   },
   "source": [
    "# Parseval's Theorem"
   ]
  },
  {
   "cell_type": "code",
   "execution_count": null,
   "metadata": {
    "deletable": false,
    "editable": false,
    "nbgrader": {
     "cell_type": "code",
     "checksum": "9072300f8fb85e5b876e2a1498692d72",
     "grade": false,
     "grade_id": "cell-ee7753111fd9711b",
     "locked": true,
     "schema_version": 3,
     "solution": false,
     "task": false
    }
   },
   "outputs": [],
   "source": [
    "import numpy as np"
   ]
  },
  {
   "cell_type": "markdown",
   "metadata": {
    "deletable": false,
    "editable": false,
    "nbgrader": {
     "cell_type": "markdown",
     "checksum": "bd9946c06024fd3078b089b8f87bd86e",
     "grade": false,
     "grade_id": "cell-8f7b805a0b854cdc",
     "locked": true,
     "schema_version": 3,
     "solution": false,
     "task": false
    }
   },
   "source": [
    "Parseval's theorem states that\n",
    "$$\n",
    "\\int_{-\\infty}^{\\infty} |x(t)|^2 dt = \\frac{1}{2\\pi} \\int_{-\\infty}^{\\infty} |X(\\omega)|^2 d\\omega.\n",
    "$$\n",
    "In this equation, $x(t)$ is the signal in the time domain and $X(\\omega)$ is the signal in the frequency domain. The theorem states that the total energy of a signal in time domain is equal to the total energy of the signal in the frequency domain."
   ]
  },
  {
   "cell_type": "markdown",
   "metadata": {
    "deletable": false,
    "editable": false,
    "nbgrader": {
     "cell_type": "markdown",
     "checksum": "002eb9bb8a81862a6ff0cc03d2a61a9f",
     "grade": false,
     "grade_id": "cell-4b5e067495ad5d68",
     "locked": true,
     "schema_version": 3,
     "solution": false,
     "task": false
    }
   },
   "source": [
    "The spectrum\n",
    "$$\n",
    "Y(\\omega) = \\frac{1}{1-j\\omega}\n",
    "$$\n",
    "has an energy\n",
    "$$\n",
    "E_Y = \\frac{1}{2\\pi}\\int^\\infty_{-\\infty} \\left|\\frac{1}{1-j\\omega} \\right|^2 d\\omega.\n",
    "$$\n",
    "Find $E_Y$.  Represent your answer as `Ey = XX`."
   ]
  },
  {
   "cell_type": "code",
   "execution_count": null,
   "metadata": {
    "deletable": false,
    "nbgrader": {
     "cell_type": "code",
     "checksum": "b8e3f03135529e0a005d9ee7d755d1b4",
     "grade": false,
     "grade_id": "cell-bff2960fa8f8134e",
     "locked": false,
     "schema_version": 3,
     "solution": true,
     "task": false
    }
   },
   "outputs": [],
   "source": [
    "# YOUR CODE HERE\n",
    "raise NotImplementedError()"
   ]
  },
  {
   "cell_type": "code",
   "execution_count": null,
   "metadata": {
    "deletable": false,
    "editable": false,
    "nbgrader": {
     "cell_type": "code",
     "checksum": "252f71239b2d9f0ded98a4604084428b",
     "grade": true,
     "grade_id": "cell-b53c8aaef0eb5f83",
     "locked": true,
     "points": 2,
     "schema_version": 3,
     "solution": false,
     "task": false
    }
   },
   "outputs": [],
   "source": [
    "assert isinstance(Ey, float)\n"
   ]
  },
  {
   "cell_type": "markdown",
   "metadata": {
    "deletable": false,
    "editable": false,
    "nbgrader": {
     "cell_type": "markdown",
     "checksum": "f0c5bfdbda4f0e862770986cf0067a2a",
     "grade": false,
     "grade_id": "cell-901ba94f6464f62e",
     "locked": true,
     "schema_version": 3,
     "solution": false,
     "task": false
    }
   },
   "source": [
    "We can extend this to a _generalized_ Parseval's theorem, which is\n",
    "$$\n",
    "\\int_{-\\infty}^{\\infty} x_1(t) x_2^*(t) dt = \\frac{1}{2\\pi} \\int_{-\\infty}^{\\infty} X_1(\\omega) X_2^*(\\omega) d\\omega\n",
    "$$\n",
    "\n",
    "In this equation, $x_1(t)$ and $x_2(t)$ are signals in the time domain and $X_1(\\omega)$ and $X_2(\\omega)$ are their respective signals in the frequency domain. The theorem states that the integral of the product of a function and its conjugate in the time domain is equal to the integral of the product of their Fourier transforms in the frequency domain.\n",
    "\n",
    "Among other useful attributes, we can use Parseval's theorem to compute some really weird integrals."
   ]
  },
  {
   "cell_type": "markdown",
   "metadata": {
    "deletable": false,
    "editable": false,
    "nbgrader": {
     "cell_type": "markdown",
     "checksum": "1205d39996c5be384053c78fc673530a",
     "grade": false,
     "grade_id": "cell-a753f0c7095ad6c2",
     "locked": true,
     "schema_version": 3,
     "solution": false,
     "task": false
    }
   },
   "source": [
    "Please solve the integral:\n",
    "$$\n",
    "\\int^\\infty_{-\\infty} \\cos(2\\pi t) \\text{sinc}^2(t) \\text{sinc}(2t)dt\n",
    "$$\n",
    "Represent your answer as `ans = XX`."
   ]
  },
  {
   "cell_type": "code",
   "execution_count": null,
   "metadata": {
    "deletable": false,
    "nbgrader": {
     "cell_type": "code",
     "checksum": "43829e4d36040732076f047a59b0d917",
     "grade": false,
     "grade_id": "cell-9ed5cadaacbafbe6",
     "locked": false,
     "schema_version": 3,
     "solution": true,
     "task": false
    }
   },
   "outputs": [],
   "source": [
    "# YOUR CODE HERE\n",
    "raise NotImplementedError()"
   ]
  },
  {
   "cell_type": "code",
   "execution_count": null,
   "metadata": {
    "deletable": false,
    "editable": false,
    "nbgrader": {
     "cell_type": "code",
     "checksum": "ab95ece1178f019dea94f570f4423991",
     "grade": true,
     "grade_id": "cell-4d16de7a14b7ac10",
     "locked": true,
     "points": 2,
     "schema_version": 3,
     "solution": false,
     "task": false
    }
   },
   "outputs": [],
   "source": [
    "assert isinstance(ans, float)\n",
    "\n"
   ]
  }
 ],
 "metadata": {
  "kernelspec": {
   "display_name": "base",
   "language": "python",
   "name": "python3"
  },
  "language_info": {
   "codemirror_mode": {
    "name": "ipython",
    "version": 3
   },
   "file_extension": ".py",
   "mimetype": "text/x-python",
   "name": "python",
   "nbconvert_exporter": "python",
   "pygments_lexer": "ipython3",
   "version": "3.12.4"
  }
 },
 "nbformat": 4,
 "nbformat_minor": 4
}
