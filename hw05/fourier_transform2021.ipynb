{
 "cells": [
  {
   "cell_type": "markdown",
   "metadata": {},
   "source": [
    "Before you turn this problem in, make sure everything runs as expected. First, **restart the kernel** (in the menubar, select Kernel$\\rightarrow$Restart) and then **run all cells** (in the menubar, select Cell$\\rightarrow$Run All).\n",
    "\n",
    "Make sure you fill in any place that says `YOUR CODE HERE` or \"YOUR ANSWER HERE\", as well as your name and collaborators below:"
   ]
  },
  {
   "cell_type": "code",
   "execution_count": null,
   "metadata": {},
   "outputs": [],
   "source": [
    "NAME = \"\"\n",
    "COLLABORATORS = \"\""
   ]
  },
  {
   "cell_type": "markdown",
   "metadata": {},
   "source": [
    "---"
   ]
  },
  {
   "cell_type": "markdown",
   "metadata": {
    "deletable": false,
    "editable": false,
    "nbgrader": {
     "cell_type": "markdown",
     "checksum": "7b0b24416e636eda0ab07a72c7a03a6c",
     "grade": false,
     "grade_id": "cell-7e1ac15bfb853aeb",
     "locked": true,
     "schema_version": 3,
     "solution": false,
     "task": false
    }
   },
   "source": [
    "# Fourier Transform 2021"
   ]
  },
  {
   "cell_type": "code",
   "execution_count": null,
   "metadata": {
    "deletable": false,
    "editable": false,
    "nbgrader": {
     "cell_type": "code",
     "checksum": "93c34c80ad1cd1c754495b877504d535",
     "grade": false,
     "grade_id": "cell-78529887fb9acfd8",
     "locked": true,
     "schema_version": 3,
     "solution": false,
     "task": false
    }
   },
   "outputs": [],
   "source": [
    "import numpy as np\n",
    "\n",
    "\n",
    "def sinc(x):\n",
    "    return np.sinc(x / np.pi)"
   ]
  },
  {
   "cell_type": "markdown",
   "metadata": {
    "deletable": false,
    "editable": false,
    "nbgrader": {
     "cell_type": "markdown",
     "checksum": "57d3d8598663054a2ba9fdb11110f144",
     "grade": false,
     "grade_id": "cell-30594db9c40f4299",
     "locked": true,
     "schema_version": 3,
     "solution": false,
     "task": false
    }
   },
   "source": [
    "Note:  if you need to use the sinc function, please use the one provided above rather the one in the NumPy library."
   ]
  },
  {
   "cell_type": "markdown",
   "metadata": {
    "deletable": false,
    "editable": false,
    "nbgrader": {
     "cell_type": "markdown",
     "checksum": "cf0c46d7ee266c2acd43ed5aaf1504a5",
     "grade": false,
     "grade_id": "cell-af07c32985fb28fd",
     "locked": true,
     "schema_version": 3,
     "solution": false,
     "task": false
    }
   },
   "source": [
    "## Part A\n",
    "\n",
    "Find the Fourier transform for $f(t)$ below.\n",
    "\n",
    "<img src=\"fourier_transform2021a.png\" width=\"400\"/>\n",
    "\n",
    "Represent your answer as a function `F(omega)`."
   ]
  },
  {
   "cell_type": "code",
   "execution_count": null,
   "metadata": {
    "deletable": false,
    "nbgrader": {
     "cell_type": "code",
     "checksum": "ed6054ca23e5430102047ffd73c05cb1",
     "grade": false,
     "grade_id": "cell-9c81bd6cbb6aa4b7",
     "locked": false,
     "schema_version": 3,
     "solution": true,
     "task": false
    }
   },
   "outputs": [],
   "source": [
    "def F(omega):\n",
    "    # YOUR CODE HERE\n",
    "    raise NotImplementedError()"
   ]
  },
  {
   "cell_type": "code",
   "execution_count": null,
   "metadata": {
    "deletable": false,
    "editable": false,
    "nbgrader": {
     "cell_type": "code",
     "checksum": "eec1b2103cc9a876385e5ffe221aea9f",
     "grade": true,
     "grade_id": "cell-019622881b2429a2",
     "locked": true,
     "points": 2,
     "schema_version": 3,
     "solution": false,
     "task": false
    }
   },
   "outputs": [],
   "source": [
    "assert isinstance(F(0), (float, complex))\n",
    "\n",
    "\n",
    "def f(t):\n",
    "    t = np.asarray(t)\n",
    "    result = np.zeros_like(t, dtype=float)\n",
    "    mask1 = (-2 <= t) & (t < -1)\n",
    "    result[mask1] = t[mask1] + 2\n",
    "    mask2 = (-1 <= t) & (t < 0)\n",
    "    result[mask2] = -t[mask2]\n",
    "    mask3 = (0 <= t) & (t < 1)\n",
    "    result[mask3] = t[mask3]\n",
    "    mask4 = (1 <= t) & (t < 2)\n",
    "    result[mask4] = 2 - t[mask4]\n",
    "    return result if result.shape != () else float(result)\n",
    "\n",
    "\n",
    "t = np.linspace(-5, 5, 1000)\n",
    "\n",
    "dt = t[1] - t[0]\n",
    "f_t = f(t)\n",
    "F_num = np.fft.fftshift(np.fft.fft(f_t, n=2**14)) * dt\n",
    "omega_num = np.fft.fftshift(np.fft.fftfreq(len(F_num), dt)) * 2 * np.pi\n",
    "\n",
    "omega_vals = np.linspace(-10, 10, 100)\n",
    "F_vals = np.array([F(om) for om in omega_vals])\n",
    "\n",
    "\n",
    "from matplotlib import pyplot as plt\n",
    "\n",
    "plt.figure(figsize=(10, 4))\n",
    "plt.subplot(1, 2, 1)\n",
    "plt.plot(t, f_t)\n",
    "plt.xlabel(r\"$t$\")\n",
    "plt.ylabel(r\"$f(t)$\")\n",
    "plt.title(\"Function f(t)\")\n",
    "plt.grid()\n",
    "\n",
    "plt.subplot(1, 2, 2)\n",
    "plt.plot(omega_num, np.abs(F_num), label=\"Numerical FFT\")\n",
    "plt.plot(omega_vals, np.abs(F_vals), \"--\", label=\"Analytical F(ω)\")\n",
    "plt.legend()\n",
    "plt.xlim(-10, 10)\n",
    "plt.xlabel(r\"$\\omega$\")\n",
    "plt.ylabel(r\"$|F(\\omega)|$\")\n",
    "plt.title(\"Magnitude of the Fourier Transform of f(t)\")\n",
    "plt.grid()\n",
    "plt.show()\n",
    "\n"
   ]
  },
  {
   "cell_type": "markdown",
   "metadata": {
    "deletable": false,
    "editable": false,
    "nbgrader": {
     "cell_type": "markdown",
     "checksum": "5460539714bed9fbbd33eb85f9918720",
     "grade": false,
     "grade_id": "cell-2c9b298d5f8c256d",
     "locked": true,
     "schema_version": 3,
     "solution": false,
     "task": false
    }
   },
   "source": [
    "## Part B\n",
    "\n",
    "Find the inverse transform $f(t)$ if $|F(\\omega)|$ and $\\angle F(\\omega)$ are given below.  \n",
    "\n",
    "<img src=\"fourier_transform2021b.png\" width=\"800\"/>\n",
    "\n",
    "Represent your answer as a function `f(t)`.  "
   ]
  },
  {
   "cell_type": "code",
   "execution_count": null,
   "metadata": {
    "deletable": false,
    "nbgrader": {
     "cell_type": "code",
     "checksum": "b6584277a0db58a71dfb3e26035e5213",
     "grade": false,
     "grade_id": "cell-3b6f47a4fd843f2b",
     "locked": false,
     "schema_version": 3,
     "solution": true,
     "task": false
    }
   },
   "outputs": [],
   "source": [
    "def f(t):\n",
    "    # YOUR CODE HERE\n",
    "    raise NotImplementedError()"
   ]
  },
  {
   "cell_type": "code",
   "execution_count": null,
   "metadata": {
    "deletable": false,
    "editable": false,
    "nbgrader": {
     "cell_type": "code",
     "checksum": "33df8ccf693eb8395dadf1d1bbabc6ee",
     "grade": true,
     "grade_id": "cell-e8049c8142664a0e",
     "locked": true,
     "points": 2,
     "schema_version": 3,
     "solution": false,
     "task": false
    }
   },
   "outputs": [],
   "source": [
    "assert isinstance(f(0), (float, complex))\n",
    "\n",
    "\n",
    "def F(omega):\n",
    "    F_omega = np.zeros_like(omega, dtype=complex)\n",
    "    mask1 = (0 <= omega) & (omega < 1)\n",
    "    mask2 = (2 <= omega) & (omega < 3)\n",
    "    F_omega[mask1] = 1.0\n",
    "    F_omega[mask2] = 1.0\n",
    "    return F_omega\n",
    "\n",
    "\n",
    "# Define the frequency-domain signal F(omega)\n",
    "d_omega = 0.01\n",
    "omega = np.arange(-40, 40, d_omega)\n",
    "F_omega = F(omega)\n",
    "\n",
    "# Compute the numerical inverse Fourier Transform\n",
    "# The scaling factor is necessary to approximate the continuous integral\n",
    "n = len(omega)\n",
    "scaling_factor = n * d_omega / (2 * np.pi)\n",
    "f_t_numerical = scaling_factor * np.fft.ifftshift(\n",
    "    np.fft.ifft(np.fft.ifftshift(F_omega))\n",
    ")\n",
    "\n",
    "# Create the corresponding time vector for the output\n",
    "t = np.fft.fftshift(np.fft.fftfreq(n, d=d_omega / (2 * np.pi)))\n",
    "\n",
    "\n",
    "f_t_user = f(t)\n",
    "\n",
    "# Plot the results for comparison\n",
    "plt.figure(figsize=(12, 6))\n",
    "plt.subplot(1, 2, 1)\n",
    "plt.plot(omega, np.abs(F_omega), label=\"Numerical F(ω)\", linewidth=4)\n",
    "plt.xlim(-4, 4)\n",
    "plt.xlabel(\"ω\")\n",
    "plt.ylabel(\"|F(ω)|\")\n",
    "plt.title(\"Absolute Value of F(ω)\")\n",
    "\n",
    "\n",
    "plt.subplot(1, 2, 2)\n",
    "plt.plot(t, np.real(f_t_numerical), label=\"Numerical Inverse FT, real\", linewidth=4)\n",
    "plt.plot(t, np.imag(f_t_numerical), label=\"Numerical Inverse FT, imag\", linestyle=\"--\")\n",
    "plt.plot(t, f_t_user.real, label=\"User's Analytical f(t), real\", linestyle=\":\")\n",
    "plt.plot(t, f_t_user.imag, label=\"User's Analytical f(t), imag\", linestyle=\"-.\")\n",
    "plt.xlim(-5, 10)\n",
    "plt.xlabel(\"t\")\n",
    "plt.ylabel(\"f(t)\")\n",
    "plt.title(\"Comparison of Numerical and Analytical Inverse Fourier Transforms\")\n",
    "plt.legend()\n",
    "plt.grid(True)\n",
    "plt.show()\n",
    "\n"
   ]
  }
 ],
 "metadata": {
  "kernelspec": {
   "display_name": "Python 3 (ipykernel)",
   "language": "python",
   "name": "python3"
  },
  "language_info": {
   "codemirror_mode": {
    "name": "ipython",
    "version": 3
   },
   "file_extension": ".py",
   "mimetype": "text/x-python",
   "name": "python",
   "nbconvert_exporter": "python",
   "pygments_lexer": "ipython3",
   "version": "3.12.4"
  }
 },
 "nbformat": 4,
 "nbformat_minor": 4
}
