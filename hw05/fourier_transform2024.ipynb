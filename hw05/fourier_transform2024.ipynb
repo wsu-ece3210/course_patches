{
 "cells": [
  {
   "cell_type": "markdown",
   "id": "55767276",
   "metadata": {},
   "source": [
    "Before you turn this problem in, make sure everything runs as expected. First, **restart the kernel** (in the menubar, select Kernel$\\rightarrow$Restart) and then **run all cells** (in the menubar, select Cell$\\rightarrow$Run All).\n",
    "\n",
    "Make sure you fill in any place that says `YOUR CODE HERE` or \"YOUR ANSWER HERE\", as well as your name and collaborators below:"
   ]
  },
  {
   "cell_type": "code",
   "execution_count": null,
   "id": "cdca2d8e",
   "metadata": {},
   "outputs": [],
   "source": [
    "NAME = \"\"\n",
    "COLLABORATORS = \"\""
   ]
  },
  {
   "cell_type": "markdown",
   "id": "a2a2d696",
   "metadata": {},
   "source": [
    "---"
   ]
  },
  {
   "cell_type": "markdown",
   "id": "cdfc2a00",
   "metadata": {
    "deletable": false,
    "editable": false,
    "nbgrader": {
     "cell_type": "markdown",
     "checksum": "7fabca5477c9e45f694d40acba55c00d",
     "grade": false,
     "grade_id": "cell-a91b474f2e0dc593",
     "locked": true,
     "schema_version": 3,
     "solution": false,
     "task": false
    }
   },
   "source": [
    "# Fourier transform 2024"
   ]
  },
  {
   "cell_type": "code",
   "execution_count": null,
   "id": "67063134",
   "metadata": {
    "deletable": false,
    "editable": false,
    "nbgrader": {
     "cell_type": "code",
     "checksum": "4e08f3c327a787e7583864e56b05f34d",
     "grade": false,
     "grade_id": "cell-803720a39505fdd7",
     "locked": true,
     "schema_version": 3,
     "solution": false,
     "task": false
    }
   },
   "outputs": [],
   "source": [
    "from matplotlib import pyplot as plt\n",
    "import numpy as np\n",
    "\n",
    "\n",
    "def sinc(x):\n",
    "    return np.sinc(x / np.pi)"
   ]
  },
  {
   "cell_type": "markdown",
   "id": "3705c6a8",
   "metadata": {
    "deletable": false,
    "editable": false,
    "nbgrader": {
     "cell_type": "markdown",
     "checksum": "e521582d8000bc0daaa578423a21fc53",
     "grade": false,
     "grade_id": "cell-91464289a29bfb54",
     "locked": true,
     "schema_version": 3,
     "solution": false,
     "task": false
    }
   },
   "source": [
    "## Part A\n",
    "\n",
    "Consider the system described by an input/output pair.\n",
    "\n",
    "<img src=\"fourier_transform2024a.png\" width=\"800\"/>\n",
    "\n",
    "Find $Y(\\omega)$, the Fourier transform of the output $y(t)$.  Feel free to use Fourier properties and known transforms or brute-force integration.  Simplify your answer as much as possible.  Represent your answer as a function `Y(omega)`.  Hint: to sanity check your solution, look at the symmetry of your final answer and make sure it makes sense!"
   ]
  },
  {
   "cell_type": "code",
   "execution_count": null,
   "id": "c06edfeb",
   "metadata": {
    "deletable": false,
    "nbgrader": {
     "cell_type": "code",
     "checksum": "f5aae047535f322dbbe503801f32cb60",
     "grade": false,
     "grade_id": "cell-6a7a8f2ced884e40",
     "locked": false,
     "schema_version": 3,
     "solution": true,
     "task": false
    }
   },
   "outputs": [],
   "source": [
    "def Y(omega):\n",
    "    # YOUR CODE HERE\n",
    "    raise NotImplementedError()"
   ]
  },
  {
   "cell_type": "code",
   "execution_count": null,
   "id": "6bfe3c01",
   "metadata": {
    "deletable": false,
    "editable": false,
    "nbgrader": {
     "cell_type": "code",
     "checksum": "00e30125089e1115a39c9ee618449cdd",
     "grade": true,
     "grade_id": "cell-a44409b6209694cf",
     "locked": true,
     "points": 2,
     "schema_version": 3,
     "solution": false,
     "task": false
    }
   },
   "outputs": [],
   "source": [
    "assert isinstance(Y(1), (float, complex))\n",
    "\n",
    "y = np.vectorize(lambda t: t if -1 <= t < 1 else 0.0)\n",
    "\n",
    "t = np.linspace(-5, 5, 1000)\n",
    "\n",
    "dt = t[1] - t[0]\n",
    "y_t = y(t)\n",
    "Y_num = np.fft.fftshift(np.fft.fft(y_t, n=2**14)) * dt\n",
    "omega_num = np.fft.fftshift(np.fft.fftfreq(len(Y_num), dt)) * 2 * np.pi\n",
    "\n",
    "omega_vals = np.linspace(-10, 10, 100)\n",
    "Y_vals = np.array([Y(om) for om in omega_vals])\n",
    "\n",
    "\n",
    "from matplotlib import pyplot as plt\n",
    "\n",
    "plt.figure(figsize=(10, 4))\n",
    "plt.subplot(1, 2, 1)\n",
    "plt.plot(t, y_t)\n",
    "plt.xlabel(r\"$t$\")\n",
    "plt.ylabel(r\"$y(t)$\")\n",
    "plt.title(\"Function y(t)\")\n",
    "plt.grid()\n",
    "\n",
    "plt.subplot(1, 2, 2)\n",
    "plt.plot(omega_num, np.abs(Y_num), label=\"Numerical FFT\")\n",
    "plt.plot(omega_vals, np.abs(Y_vals), \"--\", label=\"Analytical Y(ω)\")\n",
    "plt.legend()\n",
    "plt.xlim(-10, 10)\n",
    "plt.xlabel(r\"$\\omega$\")\n",
    "plt.ylabel(r\"$|Y(\\omega)|$\")\n",
    "plt.title(\"Magnitude of the Fourier Transform of y(t)\")\n",
    "plt.grid()\n",
    "plt.show()\n",
    "\n",
    "\n",
    "omega = np.linspace(-10, 10, 1000)\n",
    "\n",
    "plt.plot(omega, np.real(Y(omega)), label=\"Real\")\n",
    "plt.plot(omega, np.imag(Y(omega)), label=\"Imaginary\")\n",
    "plt.grid()\n",
    "plt.legend()\n",
    "plt.xlabel(\"Frequency (ω)\")\n",
    "plt.ylabel(\"Y(ω)\")\n",
    "plt.title(\"Real and Imaginary Parts of Y(ω)\")\n",
    "\n",
    "fig, ax1 = plt.subplots()\n",
    "\n",
    "\n",
    "# Magnitude on left y-axis\n",
    "ax1.plot(omega, np.abs(Y(omega)), \"b-\", label=\"Magnitude\")\n",
    "ax1.set_xlabel(\"Frequency (ω)\")\n",
    "ax1.set_ylabel(\"Magnitude\", color=\"b\")\n",
    "ax1.tick_params(axis=\"y\", labelcolor=\"b\")\n",
    "ax1.grid()\n",
    "\n",
    "# Phase on right y-axis\n",
    "ax2 = ax1.twinx()\n",
    "ax2.plot(omega, np.angle(Y(omega)), \"r-\", label=\"Phase\")\n",
    "ax2.set_ylabel(\"Phase [rad/s]\", color=\"r\")\n",
    "ax2.tick_params(axis=\"y\", labelcolor=\"r\")\n",
    "\n",
    "plt.title(\"Magnitude and Phase of Y(ω)\")\n",
    "\n"
   ]
  },
  {
   "cell_type": "markdown",
   "id": "505ab1c5",
   "metadata": {
    "deletable": false,
    "editable": false,
    "nbgrader": {
     "cell_type": "markdown",
     "checksum": "3bcca57cf4e121f875c810ba62fc1392",
     "grade": false,
     "grade_id": "cell-6055478850208b85",
     "locked": true,
     "schema_version": 3,
     "solution": false,
     "task": false
    }
   },
   "source": [
    "Given this input/output relationship, is this system linear and time-invariant?  Please respond with `ans = \"LTI\"` or `ans = \"not LTI\"`."
   ]
  },
  {
   "cell_type": "code",
   "execution_count": null,
   "id": "ffbedcdf",
   "metadata": {
    "deletable": false,
    "nbgrader": {
     "cell_type": "code",
     "checksum": "da09c03334adff0071294b922c77fcc9",
     "grade": false,
     "grade_id": "cell-4f0904b7cfd600ee",
     "locked": false,
     "schema_version": 3,
     "solution": true,
     "task": false
    }
   },
   "outputs": [],
   "source": [
    "# YOUR CODE HERE\n",
    "raise NotImplementedError()"
   ]
  },
  {
   "cell_type": "code",
   "execution_count": null,
   "id": "c970241a",
   "metadata": {
    "deletable": false,
    "editable": false,
    "nbgrader": {
     "cell_type": "code",
     "checksum": "618d6447afa150bdfbb7db6c8d77e3a5",
     "grade": true,
     "grade_id": "cell-b5b66d482c426fff",
     "locked": true,
     "points": 1,
     "schema_version": 3,
     "solution": false,
     "task": false
    }
   },
   "outputs": [],
   "source": [
    "assert ans in [\"LTI\", \"not LTI\"]\n"
   ]
  },
  {
   "cell_type": "markdown",
   "id": "179ce753",
   "metadata": {
    "deletable": false,
    "editable": false,
    "nbgrader": {
     "cell_type": "markdown",
     "checksum": "4e786fb5e8f3a1a4d72abe91b58c0672",
     "grade": false,
     "grade_id": "cell-87d4a0dc15a22909",
     "locked": true,
     "schema_version": 3,
     "solution": false,
     "task": false
    }
   },
   "source": [
    "## Part B\n",
    "\n",
    "Let $x(t)$ be a signal whose spectrum is identically zero outside the range $-\\omega_0 \\leq \\omega \\leq \\omega_0$. An example of such a spectrum is shown below.  The actual values of $X(\\omega)$ are not important for this problem, but the range of $\\omega$ for which $X(\\omega)$ is non-zero is.\n",
    "\n",
    "<img src=\"fourier_transform2024b.png\" width=\"500\"/>\n",
    "\n",
    "For the following signals, determine the range of $\\omega$ (in terms of $\\omega_0$ over which their spectrum is non-zero.\n"
   ]
  },
  {
   "cell_type": "markdown",
   "id": "0bdd15b6",
   "metadata": {
    "deletable": false,
    "editable": false,
    "nbgrader": {
     "cell_type": "markdown",
     "checksum": "d2f77f19684bf4055ec87215207e77fb",
     "grade": false,
     "grade_id": "cell-8caab613fb1d1f80",
     "locked": true,
     "schema_version": 3,
     "solution": false,
     "task": false
    }
   },
   "source": [
    "$$y(t)=x(t)+x(t-1)$$\n",
    "\n",
    "Represent your answer as a function `non_zero1(omega, omega_0)` that indicates `True` if $Y(\\omega)$ is non-zero at some $\\omega$ given some $\\omega_0$ or `False` if $Y(\\omega)$ is zero at some $\\omega$ given some $\\omega_0$."
   ]
  },
  {
   "cell_type": "code",
   "execution_count": null,
   "id": "c0100a37",
   "metadata": {
    "deletable": false,
    "nbgrader": {
     "cell_type": "code",
     "checksum": "a5ebd2c63396e5f23f04077e0491b362",
     "grade": false,
     "grade_id": "cell-bbdd060cd7298f6a",
     "locked": false,
     "schema_version": 3,
     "solution": true,
     "task": false
    }
   },
   "outputs": [],
   "source": [
    "def non_zero1(omega, omega_0):\n",
    "    # YOUR CODE HERE\n",
    "    raise NotImplementedError()"
   ]
  },
  {
   "cell_type": "code",
   "execution_count": null,
   "id": "4af75202",
   "metadata": {
    "deletable": false,
    "editable": false,
    "nbgrader": {
     "cell_type": "code",
     "checksum": "e24a27790df4790b3409663352375d6e",
     "grade": true,
     "grade_id": "cell-3273ac6ad2abe4b3",
     "locked": true,
     "points": 1,
     "schema_version": 3,
     "solution": false,
     "task": false
    }
   },
   "outputs": [],
   "source": [
    "assert isinstance(non_zero1(1, 2), bool)\n",
    "\n"
   ]
  },
  {
   "cell_type": "markdown",
   "id": "cd698481",
   "metadata": {
    "deletable": false,
    "editable": false,
    "nbgrader": {
     "cell_type": "markdown",
     "checksum": "cae9aea3b66fa2ec77883000d98153e3",
     "grade": false,
     "grade_id": "cell-9f3c677343843941",
     "locked": true,
     "schema_version": 3,
     "solution": false,
     "task": false
    }
   },
   "source": [
    "$$y(t) = x(t) \\cos(\\omega_0 t)$$\n",
    "\n",
    "Represent your answer as a function `non_zero2(omega, omega_0)` that indicates `True` if $Y(\\omega)$ is non-zero at some $\\omega$ given some $\\omega_0$ or `False` if $Y(\\omega)$ is zero at some $\\omega$ given some $\\omega_0$."
   ]
  },
  {
   "cell_type": "code",
   "execution_count": null,
   "id": "45a01670",
   "metadata": {
    "deletable": false,
    "nbgrader": {
     "cell_type": "code",
     "checksum": "3951c5778e532ac9f4b549491763f2bc",
     "grade": false,
     "grade_id": "cell-39240ff61f1d0b82",
     "locked": false,
     "schema_version": 3,
     "solution": true,
     "task": false
    }
   },
   "outputs": [],
   "source": [
    "def non_zero2(omega, omega_0):\n",
    "    # YOUR CODE HERE\n",
    "    raise NotImplementedError()"
   ]
  },
  {
   "cell_type": "code",
   "execution_count": null,
   "id": "25a80f32",
   "metadata": {
    "deletable": false,
    "editable": false,
    "nbgrader": {
     "cell_type": "code",
     "checksum": "1317c3504a00666ea6a69ba8d7651e0d",
     "grade": true,
     "grade_id": "cell-64af5dc98caa9045",
     "locked": true,
     "points": 1,
     "schema_version": 3,
     "solution": false,
     "task": false
    }
   },
   "outputs": [],
   "source": [
    "assert isinstance(non_zero2(1, 2), bool)\n",
    "\n"
   ]
  }
 ],
 "metadata": {
  "kernelspec": {
   "display_name": "base",
   "language": "python",
   "name": "python3"
  },
  "language_info": {
   "codemirror_mode": {
    "name": "ipython",
    "version": 3
   },
   "file_extension": ".py",
   "mimetype": "text/x-python",
   "name": "python",
   "nbconvert_exporter": "python",
   "pygments_lexer": "ipython3",
   "version": "3.12.4"
  }
 },
 "nbformat": 4,
 "nbformat_minor": 5
}
