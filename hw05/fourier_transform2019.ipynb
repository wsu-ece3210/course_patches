{
 "cells": [
  {
   "cell_type": "markdown",
   "metadata": {},
   "source": [
    "Before you turn this problem in, make sure everything runs as expected. First, **restart the kernel** (in the menubar, select Kernel$\\rightarrow$Restart) and then **run all cells** (in the menubar, select Cell$\\rightarrow$Run All).\n",
    "\n",
    "Make sure you fill in any place that says `YOUR CODE HERE` or \"YOUR ANSWER HERE\", as well as your name and collaborators below:"
   ]
  },
  {
   "cell_type": "code",
   "execution_count": null,
   "metadata": {},
   "outputs": [],
   "source": [
    "NAME = \"\"\n",
    "COLLABORATORS = \"\""
   ]
  },
  {
   "cell_type": "markdown",
   "metadata": {},
   "source": [
    "---"
   ]
  },
  {
   "cell_type": "markdown",
   "metadata": {
    "deletable": false,
    "editable": false,
    "nbgrader": {
     "cell_type": "markdown",
     "checksum": "0f16755c47d0a9783e48a2c7366e19ac",
     "grade": false,
     "grade_id": "cell-ffc0ceeb05227a5d",
     "locked": true,
     "schema_version": 3,
     "solution": false,
     "task": false
    }
   },
   "source": [
    "# Fourier Tranform 2019"
   ]
  },
  {
   "cell_type": "code",
   "execution_count": null,
   "metadata": {
    "deletable": false,
    "editable": false,
    "nbgrader": {
     "cell_type": "code",
     "checksum": "d6500bbe001aa2ed126fcb98e2170d95",
     "grade": false,
     "grade_id": "cell-a25917dd8e43fdd8",
     "locked": true,
     "schema_version": 3,
     "solution": false,
     "task": false
    }
   },
   "outputs": [],
   "source": [
    "import numpy as np\n",
    "\n",
    "\n",
    "def sinc(x):\n",
    "    return np.sinc(x / np.pi)"
   ]
  },
  {
   "cell_type": "markdown",
   "metadata": {
    "deletable": false,
    "editable": false,
    "nbgrader": {
     "cell_type": "markdown",
     "checksum": "c66b1184a4711eaab9599b575c3f93a1",
     "grade": false,
     "grade_id": "cell-a19ca5e32d979bb5",
     "locked": true,
     "schema_version": 3,
     "solution": false,
     "task": false
    }
   },
   "source": [
    "Note:  if you need to use the sinc function, please use the one provided above rather the one in the NumPy library."
   ]
  },
  {
   "cell_type": "markdown",
   "metadata": {
    "deletable": false,
    "editable": false,
    "nbgrader": {
     "cell_type": "markdown",
     "checksum": "6a132fedf6a0382fdaf1d4f276f0dd2d",
     "grade": false,
     "grade_id": "cell-d8f09e30cc85b873",
     "locked": true,
     "schema_version": 3,
     "solution": false,
     "task": false
    }
   },
   "source": [
    "Find the Fourier transform of $f(t) = 2\\text{sinc}(\\pi t) \\cos(\\pi t)$.  You may use tables or direct integration.\n",
    "\n",
    "Represent your answer as a a function `F(omega)`."
   ]
  },
  {
   "cell_type": "code",
   "execution_count": null,
   "metadata": {
    "deletable": false,
    "nbgrader": {
     "cell_type": "code",
     "checksum": "6d21ae45e904d4d7d95e3996800e5575",
     "grade": false,
     "grade_id": "cell-92b4b8c216dd9b10",
     "locked": false,
     "schema_version": 3,
     "solution": true,
     "task": false
    }
   },
   "outputs": [],
   "source": [
    "def F(omega):\n",
    "    # YOUR CODE HERE\n",
    "    raise NotImplementedError()"
   ]
  },
  {
   "cell_type": "code",
   "execution_count": null,
   "metadata": {
    "deletable": false,
    "editable": false,
    "nbgrader": {
     "cell_type": "code",
     "checksum": "ea770387f45a841d798af78e702de8e0",
     "grade": true,
     "grade_id": "cell-9c21ca5d47deaf20",
     "locked": true,
     "points": 3,
     "schema_version": 3,
     "solution": false,
     "task": false
    }
   },
   "outputs": [],
   "source": [
    "assert isinstance(F(0), (float, complex))\n",
    "\n",
    "\n",
    "def f(t):\n",
    "    return 2 * sinc(np.pi * t) * np.cos(np.pi * t)\n",
    "\n",
    "\n",
    "t = np.linspace(-10, 10, 1000)\n",
    "\n",
    "dt = t[1] - t[0]\n",
    "f_t = f(t)\n",
    "F_num = np.fft.fftshift(np.fft.fft(f_t, n=2**14)) * dt\n",
    "omega_num = np.fft.fftshift(np.fft.fftfreq(len(F_num), dt)) * 2 * np.pi\n",
    "\n",
    "omega_vals = np.linspace(-10, 10, 100)\n",
    "F_vals = np.array([F(om) for om in omega_vals])\n",
    "\n",
    "\n",
    "from matplotlib import pyplot as plt\n",
    "\n",
    "plt.figure(figsize=(10, 4))\n",
    "plt.subplot(1, 2, 1)\n",
    "plt.plot(t, f_t)\n",
    "plt.xlabel(r\"$t$\")\n",
    "plt.ylabel(r\"$f(t)$\")\n",
    "plt.title(\"Function f(t)\")\n",
    "plt.grid()\n",
    "\n",
    "plt.subplot(1, 2, 2)\n",
    "plt.plot(omega_num, np.abs(F_num), label=\"Numerical FFT\")\n",
    "plt.plot(omega_vals, np.abs(F_vals), \"--\", label=\"Analytical F(ω)\")\n",
    "plt.legend()\n",
    "plt.xlim(-10, 10)\n",
    "plt.xlabel(r\"$\\omega$\")\n",
    "plt.ylabel(r\"$|F(\\omega)|$\")\n",
    "plt.title(\"Magnitude of the Fourier Transform of f(t)\")\n",
    "plt.grid()\n",
    "plt.show()\n",
    "\n"
   ]
  }
 ],
 "metadata": {
  "kernelspec": {
   "display_name": "base",
   "language": "python",
   "name": "python3"
  },
  "language_info": {
   "codemirror_mode": {
    "name": "ipython",
    "version": 3
   },
   "file_extension": ".py",
   "mimetype": "text/x-python",
   "name": "python",
   "nbconvert_exporter": "python",
   "pygments_lexer": "ipython3",
   "version": "3.12.4"
  }
 },
 "nbformat": 4,
 "nbformat_minor": 4
}
